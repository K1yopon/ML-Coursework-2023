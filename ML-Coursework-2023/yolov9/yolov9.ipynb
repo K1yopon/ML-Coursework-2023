{
  "nbformat": 4,
  "nbformat_minor": 0,
  "metadata": {
    "colab": {
      "provenance": []
    },
    "kernelspec": {
      "name": "python3",
      "display_name": "Python 3"
    },
    "language_info": {
      "name": "python"
    }
  },
  "cells": [
    {
      "cell_type": "code",
      "source": [
        "!nvidia-smi"
      ],
      "metadata": {
        "colab": {
          "base_uri": "https://localhost:8080/"
        },
        "id": "fuWPJA63SEn-",
        "outputId": "3574c681-f4f0-48ff-d3a4-bacb54186fe8"
      },
      "execution_count": 1,
      "outputs": [
        {
          "output_type": "stream",
          "name": "stdout",
          "text": [
            "/bin/bash: line 1: nvidia-smi: command not found\n"
          ]
        }
      ]
    },
    {
      "cell_type": "code",
      "execution_count": null,
      "metadata": {
        "id": "mXc5-etUHijN"
      },
      "outputs": [],
      "source": [
        "import torch\n",
        "from ultralytics import YOLO\n",
        "from albumentations import Compose, Rotate\n",
        "DEVICE = torch.device(\"cuda\" if torch.cuda.is_available() else \"cpu\")\n",
        "DEVICE\n",
        "data_path = 'data.yaml'\n",
        "model = YOLO(\"yolov9m.pt\")\n",
        "model.to(DEVICE);\n",
        "results = model.train(\n",
        "  data = data_path,\n",
        "  epochs = 25,\n",
        "  imgsz = 640,\n",
        "  batch = 64,\n",
        "  workers = 4,\n",
        "  device = DEVICE,\n",
        "  optimizer='AdamW',\n",
        "  weight_decay=1e-4,\n",
        "  augment=True,\n",
        "  auto_augment=\"randaugment\"\n",
        ")"
      ]
    }
  ]
}